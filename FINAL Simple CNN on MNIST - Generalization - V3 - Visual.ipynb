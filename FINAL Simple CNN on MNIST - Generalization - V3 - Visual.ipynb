{
 "cells": [
  {
   "cell_type": "markdown",
   "metadata": {},
   "source": [
    "# Simple CNN on MNIST - Generalization"
   ]
  },
  {
   "cell_type": "code",
   "execution_count": 1,
   "metadata": {},
   "outputs": [
    {
     "name": "stderr",
     "output_type": "stream",
     "text": [
      "/home/Chris/tensorflow/lib/python3.5/site-packages/h5py/__init__.py:36: FutureWarning: Conversion of the second argument of issubdtype from `float` to `np.floating` is deprecated. In future, it will be treated as `np.float64 == np.dtype(float).type`.\n",
      "  from ._conv import register_converters as _register_converters\n",
      "Using TensorFlow backend.\n"
     ]
    }
   ],
   "source": [
    "import numpy as np\n",
    "\n",
    "import os\n",
    "\n",
    "import keras\n",
    "from keras import backend\n",
    "from keras.models import Sequential\n",
    "from keras.layers import Dense, Dropout, Flatten\n",
    "from keras.layers import Conv2D, MaxPooling2D\n",
    "from keras.models import load_model\n",
    "\n",
    "import tensorflow as tf\n",
    "\n",
    "from keras.callbacks import TensorBoard, EarlyStopping\n",
    "\n",
    "from cleverhans.utils_mnist import data_mnist\n",
    "from cleverhans.attacks import (BasicIterativeMethod, CarliniWagnerL2, DeepFool, ElasticNetMethod, \n",
    "                                FastFeatureAdversaries, FastGradientMethod, LBFGS, MadryEtAl, \n",
    "                                MomentumIterativeMethod, SPSA, SaliencyMapMethod, VirtualAdversarialMethod)\n",
    "from cleverhans.utils_keras import KerasModelWrapper\n",
    "\n",
    "from ipywidgets import interact\n",
    "import ipywidgets as widgets"
   ]
  },
  {
   "cell_type": "code",
   "execution_count": 2,
   "metadata": {},
   "outputs": [],
   "source": [
    "%matplotlib inline\n",
    "\n",
    "import matplotlib\n",
    "import matplotlib.pyplot as plt"
   ]
  },
  {
   "cell_type": "code",
   "execution_count": 3,
   "metadata": {},
   "outputs": [],
   "source": [
    "from_saved_model = True\n",
    "run_attack = True"
   ]
  },
  {
   "cell_type": "markdown",
   "metadata": {},
   "source": [
    "## Configurable Parameters"
   ]
  },
  {
   "cell_type": "code",
   "execution_count": 4,
   "metadata": {},
   "outputs": [],
   "source": [
    "# Used in Getting the Data\n",
    "train_start=0\n",
    "train_end=60000\n",
    "test_start=0\n",
    "test_end=10000\n",
    "\n",
    "attack_start=0\n",
    "attack_end=100\n",
    "\n",
    "batch_size = 128\n",
    "num_classes = 10\n",
    "epochs = 500\n",
    "input_shape = (28, 28, 1)\n",
    "\n",
    "gen_steps = 11\n",
    "\n",
    "num_points = 10\n",
    "attack_names = ['basic_iterative', 'fast_gradient', 'madry', 'momentum_iterative']\n",
    "\n",
    "run_ident = '18'"
   ]
  },
  {
   "cell_type": "code",
   "execution_count": 5,
   "metadata": {},
   "outputs": [],
   "source": [
    "losses = np.zeros((gen_steps, len(attack_names), num_points))\n",
    "accuracies = np.zeros((gen_steps, len(attack_names), num_points))\n",
    "\n",
    "for gen in range(gen_steps):\n",
    "    loss = np.load('results_r{}/loss_g{}.npy'.format(run_ident, gen))\n",
    "    accuracy = np.load('results_r{}/accuracy_g{}.npy'.format(run_ident, gen))\n",
    "    \n",
    "    losses[gen,:,:] = loss\n",
    "    accuracies[gen,:,:] = accuracy"
   ]
  },
  {
   "cell_type": "code",
   "execution_count": 8,
   "metadata": {},
   "outputs": [],
   "source": [
    "def plot_func(gen):\n",
    "    fig = plt.figure(figsize=(8, 6))\n",
    "    plt.subplot(121)\n",
    "    for index, attack_name in enumerate(attack_names):\n",
    "        x_plt = np.linspace(0, 0.5, num_points)\n",
    "        y_plt = losses[gen, index, :].flatten()\n",
    "        plt.plot(x_plt, y_plt, label=attack_name)\n",
    "    plt.title('Adversarial Loss')\n",
    "    plt.xlabel('Attack Strength')\n",
    "    plt.ylabel('Loss')\n",
    "    plt.legend()\n",
    "\n",
    "    plt.subplot(122)\n",
    "    for index, attack_name in enumerate(attack_names):\n",
    "        x_plt = np.linspace(0, 0.5, num_points)\n",
    "        y_plt = accuracies[gen, index, :].flatten()\n",
    "        plt.plot(x_plt, y_plt, label=attack_name)\n",
    "    plt.title('Adversarial Accuracy')\n",
    "    plt.xlabel('Attack Strength')\n",
    "    plt.ylabel('Accuracy')\n",
    "    plt.legend()\n",
    "    plt.show()"
   ]
  },
  {
   "cell_type": "code",
   "execution_count": 9,
   "metadata": {},
   "outputs": [
    {
     "data": {
      "application/vnd.jupyter.widget-view+json": {
       "model_id": "1fa962b21c66405c9c52bb36598d0d0e",
       "version_major": 2,
       "version_minor": 0
      },
      "text/html": [
       "<p>Failed to display Jupyter Widget of type <code>interactive</code>.</p>\n",
       "<p>\n",
       "  If you're reading this message in the Jupyter Notebook or JupyterLab Notebook, it may mean\n",
       "  that the widgets JavaScript is still loading. If this message persists, it\n",
       "  likely means that the widgets JavaScript library is either not installed or\n",
       "  not enabled. See the <a href=\"https://ipywidgets.readthedocs.io/en/stable/user_install.html\">Jupyter\n",
       "  Widgets Documentation</a> for setup instructions.\n",
       "</p>\n",
       "<p>\n",
       "  If you're reading this message in another frontend (for example, a static\n",
       "  rendering on GitHub or <a href=\"https://nbviewer.jupyter.org/\">NBViewer</a>),\n",
       "  it may mean that your frontend doesn't currently support widgets.\n",
       "</p>\n"
      ],
      "text/plain": [
       "interactive(children=(IntSlider(value=0, description='gen', max=10), Output()), _dom_classes=('widget-interact',))"
      ]
     },
     "metadata": {},
     "output_type": "display_data"
    }
   ],
   "source": [
    "if run_attack:\n",
    "    interact(plot_func, gen=widgets.IntSlider(min=0,max=gen_steps-1,step=1,value=0));"
   ]
  },
  {
   "cell_type": "code",
   "execution_count": 39,
   "metadata": {},
   "outputs": [],
   "source": [
    "np.savetxt('losses_g0_r{}.csv'.format(run_ident), losses[0, :, :].T, delimiter=',')\n",
    "np.savetxt('accuracies_g0_r{}.csv'.format(run_ident), accuracies[0, :, :].T, delimiter=',')\n",
    "np.savetxt('losses_g1_r{}.csv'.format(run_ident), losses[1, :, :].T, delimiter=',')\n",
    "np.savetxt('accuracies_g1_r{}.csv'.format(run_ident), accuracies[1, :, :].T, delimiter=',')"
   ]
  },
  {
   "cell_type": "code",
   "execution_count": 33,
   "metadata": {},
   "outputs": [],
   "source": [
    "losses_sum = np.sum(losses, axis=2)\n",
    "accuracies_sum = np.sum(accuracies, axis=2)\n",
    "\n",
    "losses_rel = np.zeros((gen_steps, len(attack_names)))\n",
    "accuracies_rel = np.zeros((gen_steps, len(attack_names)))\n",
    "\n",
    "for index, attack_name in enumerate(attack_names):\n",
    "    for gen in range(gen_steps):\n",
    "        losses_all = losses[gen, index, :].flatten()\n",
    "        losses_rel[gen, index] = np.sum(losses_all)\n",
    "                                        \n",
    "        accuracies_all = accuracies[gen, index, :].flatten()\n",
    "        accuracies_rel[gen, index] = np.sum(accuracies_all)"
   ]
  },
  {
   "cell_type": "code",
   "execution_count": 36,
   "metadata": {},
   "outputs": [],
   "source": [
    "np.savetxt('losses_rel_r{}.csv'.format(run_ident), losses_rel, delimiter=',')\n",
    "np.savetxt('accuracies_rel{}.csv'.format(run_ident), accuracies_rel, delimiter=',')"
   ]
  },
  {
   "cell_type": "code",
   "execution_count": 34,
   "metadata": {},
   "outputs": [
    {
     "name": "stdout",
     "output_type": "stream",
     "text": [
      "[[122.52405384  80.97381611 122.61464866 122.27383342]\n",
      " [145.60232885 128.30078081 145.44267248 145.60385351]\n",
      " [145.98366561 131.45183753 144.04949325 145.98366561]\n",
      " [147.81462389 135.80532763 141.68974535 147.81462389]\n",
      " [147.76416777 125.78831247 144.70172857 147.76416777]\n",
      " [145.92247223 131.89255188 145.04523621 147.81737335]\n",
      " [149.49776025 147.1450512  149.49776025 149.49776025]\n",
      " [152.12035934 146.28004593 151.31445419 152.12035934]\n",
      " [149.41995579 141.7432151  150.63458069 152.62387302]\n",
      " [135.77529358 124.1681855  145.69170807 139.38008789]\n",
      " [158.60890755 156.45368813 158.28654549 158.60890755]]\n"
     ]
    }
   ],
   "source": [
    "print(losses_rel)"
   ]
  },
  {
   "cell_type": "code",
   "execution_count": 35,
   "metadata": {},
   "outputs": [
    {
     "data": {
      "image/png": "[encoded data removed]",
      "text/plain": [
       "<Figure size 576x432 with 2 Axes>"
      ]
     },
     "metadata": {},
     "output_type": "display_data"
    }
   ],
   "source": [
    "fig = plt.figure(figsize=(8, 6))\n",
    "\n",
    "losses_start = losses[:, :, 0]\n",
    "losses_sum = np.sum(losses, axis=2)\n",
    "\n",
    "plt.subplot(121)\n",
    "for index, attack_name in enumerate(attack_names):\n",
    "    x_plt = np.linspace(0, 1, num=gen_steps)\n",
    "    y_plt = losses_rel[:, index].flatten()\n",
    "    plt.plot(x_plt, y_plt, label=attack_name)\n",
    "plt.title('Adversarial Loss')\n",
    "plt.xlabel('Gen')\n",
    "plt.ylabel('Loss')\n",
    "plt.legend()\n",
    "\n",
    "accuracies_sum = np.sum(accuracies, axis=2)\n",
    "\n",
    "plt.subplot(122)\n",
    "for index, attack_name in enumerate(attack_names):\n",
    "    x_plt = np.linspace(0, 1, num=gen_steps)\n",
    "    y_plt = accuracies_rel[:, index].flatten()\n",
    "    plt.plot(x_plt, y_plt, label=attack_name)\n",
    "plt.title('Adversarial Accuracy')\n",
    "plt.xlabel('Gen')\n",
    "plt.ylabel('Accuracy')\n",
    "plt.legend()\n",
    "plt.show()"
   ]
  },
  {
   "cell_type": "code",
   "execution_count": 43,
   "metadata": {},
   "outputs": [
    {
     "name": "stdout",
     "output_type": "stream",
     "text": [
      "[0.         0.05555556 0.11111111 0.16666667 0.22222222 0.27777778\n",
      " 0.33333333 0.38888889 0.44444444 0.5       ]\n"
     ]
    }
   ],
   "source": [
    "print(np.linspace(0, 0.5, 10))"
   ]
  },
  {
   "cell_type": "code",
   "execution_count": null,
   "metadata": {},
   "outputs": [],
   "source": []
  }
 ],
 "metadata": {
  "kernelspec": {
   "display_name": "Python 3",
   "language": "python",
   "name": "python3"
  },
  "language_info": {
   "codemirror_mode": {
    "name": "ipython",
    "version": 3
   },
   "file_extension": ".py",
   "mimetype": "text/x-python",
   "name": "python",
   "nbconvert_exporter": "python",
   "pygments_lexer": "ipython3",
   "version": "3.5.2"
  }
 },
 "nbformat": 4,
 "nbformat_minor": 2
}
